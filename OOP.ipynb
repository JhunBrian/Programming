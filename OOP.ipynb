{
 "cells": [
  {
   "cell_type": "markdown",
   "id": "4eef6faf",
   "metadata": {},
   "source": [
    "## Attributes and Methods"
   ]
  },
  {
   "cell_type": "code",
   "execution_count": 24,
   "id": "1aa32eee",
   "metadata": {},
   "outputs": [],
   "source": [
    "class Student:\n",
    "    \n",
    "    # defining constructor\n",
    "    def __init__(self, name, id_num):\n",
    "        # `name` and `id_num` are public attributes\n",
    "        self.name = name\n",
    "        self.id_num = id_num\n",
    "        \n",
    "    # functions inside a class is called a method\n",
    "    def profile(self):\n",
    "        print(f\"I am {self.name}, my student ID is {self.id_num}\")"
   ]
  },
  {
   "cell_type": "markdown",
   "id": "5daf620a",
   "metadata": {},
   "source": [
    "**`brian` is an instance of the class `Student`. The `Student` class requires `name` and `id_num` to instantiate, so it is required to provide these requirements.**"
   ]
  },
  {
   "cell_type": "markdown",
   "id": "2d34facd",
   "metadata": {},
   "source": [
    "**The `Student` class has one method called `profile` which prints a statement including the two required attribute values in a single sentence.**"
   ]
  },
  {
   "cell_type": "code",
   "execution_count": 25,
   "id": "6c1e7242",
   "metadata": {},
   "outputs": [
    {
     "name": "stdout",
     "output_type": "stream",
     "text": [
      "I am Brian, my student ID is 2019101216\n"
     ]
    }
   ],
   "source": [
    "brian = Student('Brian', 2019101216)\n",
    "brian.profile()"
   ]
  },
  {
   "cell_type": "markdown",
   "id": "192f0231",
   "metadata": {},
   "source": [
    "**You can overwrite the instantiated value of a given parameter like from the example below.**"
   ]
  },
  {
   "cell_type": "code",
   "execution_count": 26,
   "id": "edacf072",
   "metadata": {},
   "outputs": [
    {
     "name": "stdout",
     "output_type": "stream",
     "text": [
      "I am Jhun Brian, my student ID is 2019101216\n"
     ]
    }
   ],
   "source": [
    "brian.name = 'Jhun Brian'\n",
    "brian.profile()"
   ]
  },
  {
   "cell_type": "markdown",
   "id": "c72ab72d",
   "metadata": {},
   "source": [
    "## Inheritance\n",
    "\n",
    "Inheritance is a way of creating a new class for using details of an existing class without modifying it.\n",
    "\n",
    "The newly formed class is a derived class (or child class). Similarly, the existing class is a base class (or parent class)."
   ]
  },
  {
   "cell_type": "code",
   "execution_count": 44,
   "id": "370b5df2",
   "metadata": {},
   "outputs": [],
   "source": [
    "class DS_Student(Student):\n",
    "    \n",
    "    # defining constructor\n",
    "    def __init__(self, name, id_num, units, favorite_sub):\n",
    "        \n",
    "        # instantiated `Student` parent class's required attribute values.\n",
    "        Student.__init__(self, name=name, id_num=id_num)\n",
    "        \n",
    "        # `units` and `favorite_sub` are unique attribhutes of the `DS_Student` class.\n",
    "        self.units = units\n",
    "        self.favorite_sub = favorite_sub\n",
    "        \n",
    "    # `units_taken` and `favorite_subject` are the unique methods of the `DS_Student` class\n",
    "    def units_taken(self):\n",
    "        print(f\"I enrolled {self.units} units\")\n",
    "        \n",
    "    def favorite_subject(self):\n",
    "        print(f\"My Favorite Subject is {self.favorite_sub}\")"
   ]
  },
  {
   "cell_type": "markdown",
   "id": "4f6b38d0",
   "metadata": {},
   "source": [
    "**`ds_brian` is an instance of the `DS_Student` class, the provided attributes of the new instantiated object also includes the required attribute of the parent class which is the `Student` class (`name`, `id_num`).**"
   ]
  },
  {
   "cell_type": "code",
   "execution_count": 68,
   "id": "deb86121",
   "metadata": {},
   "outputs": [],
   "source": [
    "ds_brian = DS_Student(name=\"Brian\", id_num=2019101216, units=21, favorite_sub=\"Mobile Legends\")"
   ]
  },
  {
   "cell_type": "markdown",
   "id": "1398c892",
   "metadata": {},
   "source": [
    "**The child class `DS_Student` only have two hard coded methods (`units_taken`, `favorite_subject`), but since the parent class `Student` is being instantiated inside the `DS_Student` constructor, all the public methods from the `Student` class will be inherited by the child class `DS_Student`.**"
   ]
  },
  {
   "cell_type": "code",
   "execution_count": 69,
   "id": "058572ff",
   "metadata": {},
   "outputs": [
    {
     "name": "stdout",
     "output_type": "stream",
     "text": [
      "I am Brian, my student ID is 2019101216\n",
      "I enrolled 21 units\n",
      "My Favorite Subject is Mobile Legends\n"
     ]
    }
   ],
   "source": [
    "# `profile` is originally from the parent class `Student`\n",
    "ds_brian.profile()\n",
    "\n",
    "# `units_taken` and `favorite_subject` are the methods inside the child class `DS_Student`\n",
    "ds_brian.units_taken()\n",
    "ds_brian.favorite_subject()"
   ]
  },
  {
   "cell_type": "code",
   "execution_count": 53,
   "id": "5ead60c9",
   "metadata": {
    "scrolled": true
   },
   "outputs": [
    {
     "data": {
      "text/plain": [
       "['__class__',\n",
       " '__delattr__',\n",
       " '__dict__',\n",
       " '__dir__',\n",
       " '__doc__',\n",
       " '__eq__',\n",
       " '__format__',\n",
       " '__ge__',\n",
       " '__getattribute__',\n",
       " '__gt__',\n",
       " '__hash__',\n",
       " '__init__',\n",
       " '__init_subclass__',\n",
       " '__le__',\n",
       " '__lt__',\n",
       " '__module__',\n",
       " '__ne__',\n",
       " '__new__',\n",
       " '__reduce__',\n",
       " '__reduce_ex__',\n",
       " '__repr__',\n",
       " '__setattr__',\n",
       " '__sizeof__',\n",
       " '__str__',\n",
       " '__subclasshook__',\n",
       " '__weakref__',\n",
       " 'favorite_subject',\n",
       " 'profile',\n",
       " 'units_taken']"
      ]
     },
     "execution_count": 53,
     "metadata": {},
     "output_type": "execute_result"
    }
   ],
   "source": [
    "# If we executed the `dir()` function, we will see the available attributes and methods of a class.\n",
    "# We can see from the output that the `profile` is available as an attribute.\n",
    "dir(DS_Student)"
   ]
  },
  {
   "cell_type": "markdown",
   "id": "e2c1860e",
   "metadata": {},
   "source": [
    "## Encapsulation\n",
    "\n",
    "Encapsulation is one of the key features of object-oriented programming. Encapsulation refers to the bundling of attributes and methods inside a single class.\n",
    "\n",
    "It prevents outer classes from accessing and changing attributes and methods of a class. This also helps to achieve data hiding.\n",
    "\n",
    "In Python, we denote private attributes using underscore as the prefix i.e single _ or double __. For example,"
   ]
  },
  {
   "cell_type": "code",
   "execution_count": 70,
   "id": "0d0c3ee9",
   "metadata": {},
   "outputs": [],
   "source": [
    "class StudentProfiling:\n",
    "    \n",
    "    # defining constructor\n",
    "    def __init__(self, name, id_num, contact_num):\n",
    "        self.name = name\n",
    "        \n",
    "        # by adding `__` before instantiating an attribute, we are restricting the attribute from being accessed directly\n",
    "        # outside the class `id_num` and `__contact_num` are encapsulated attributes.\n",
    "        \n",
    "        self.__id_num = id_num\n",
    "        self.__contact_num = contact_num\n",
    "        \n",
    "    # Method\n",
    "    def profile(self):\n",
    "        print(f\"I am {self.name}\")"
   ]
  },
  {
   "cell_type": "code",
   "execution_count": 72,
   "id": "feb45f67",
   "metadata": {},
   "outputs": [
    {
     "name": "stdout",
     "output_type": "stream",
     "text": [
      "I am Jhun Brian\n"
     ]
    }
   ],
   "source": [
    "# Instantiate the object for the `StudentProfiling` class\n",
    "\n",
    "brian_new = StudentProfiling(\"Jhun Brian\", \"2019101216\", \"09085260338\")\n",
    "brian_new.profile()"
   ]
  },
  {
   "cell_type": "code",
   "execution_count": 73,
   "id": "bdc14d97",
   "metadata": {},
   "outputs": [
    {
     "ename": "AttributeError",
     "evalue": "'StudentProfiling' object has no attribute 'id_num'",
     "output_type": "error",
     "traceback": [
      "\u001b[1;31m---------------------------------------------------------------------------\u001b[0m",
      "\u001b[1;31mAttributeError\u001b[0m                            Traceback (most recent call last)",
      "Input \u001b[1;32mIn [73]\u001b[0m, in \u001b[0;36m<cell line: 2>\u001b[1;34m()\u001b[0m\n\u001b[0;32m      1\u001b[0m \u001b[38;5;66;03m# `id_num` is not an attribute\u001b[39;00m\n\u001b[1;32m----> 2\u001b[0m \u001b[43mbrian_new\u001b[49m\u001b[38;5;241;43m.\u001b[39;49m\u001b[43mid_num\u001b[49m\n",
      "\u001b[1;31mAttributeError\u001b[0m: 'StudentProfiling' object has no attribute 'id_num'"
     ]
    }
   ],
   "source": [
    "# `id_num` is not an attribute\n",
    "brian_new.id_num"
   ]
  },
  {
   "cell_type": "code",
   "execution_count": 76,
   "id": "e369b077",
   "metadata": {},
   "outputs": [
    {
     "ename": "AttributeError",
     "evalue": "'StudentProfiling' object has no attribute '__id_num'",
     "output_type": "error",
     "traceback": [
      "\u001b[1;31m---------------------------------------------------------------------------\u001b[0m",
      "\u001b[1;31mAttributeError\u001b[0m                            Traceback (most recent call last)",
      "Input \u001b[1;32mIn [76]\u001b[0m, in \u001b[0;36m<cell line: 2>\u001b[1;34m()\u001b[0m\n\u001b[0;32m      1\u001b[0m \u001b[38;5;66;03m# even if we put the underscores.\u001b[39;00m\n\u001b[1;32m----> 2\u001b[0m \u001b[43mbrian_new\u001b[49m\u001b[38;5;241;43m.\u001b[39;49m\u001b[43m__id_num\u001b[49m\n",
      "\u001b[1;31mAttributeError\u001b[0m: 'StudentProfiling' object has no attribute '__id_num'"
     ]
    }
   ],
   "source": [
    "# even if we put the underscores.\n",
    "brian_new.__id_num"
   ]
  },
  {
   "cell_type": "code",
   "execution_count": 79,
   "id": "4d1663c8",
   "metadata": {},
   "outputs": [
    {
     "data": {
      "text/plain": [
       "['_StudentProfiling__contact_num',\n",
       " '_StudentProfiling__id_num',\n",
       " '__class__',\n",
       " '__delattr__',\n",
       " '__dict__',\n",
       " '__dir__',\n",
       " '__doc__',\n",
       " '__eq__',\n",
       " '__format__',\n",
       " '__ge__',\n",
       " '__getattribute__',\n",
       " '__gt__',\n",
       " '__hash__',\n",
       " '__init__',\n",
       " '__init_subclass__',\n",
       " '__le__',\n",
       " '__lt__',\n",
       " '__module__',\n",
       " '__ne__',\n",
       " '__new__',\n",
       " '__reduce__',\n",
       " '__reduce_ex__',\n",
       " '__repr__',\n",
       " '__setattr__',\n",
       " '__sizeof__',\n",
       " '__str__',\n",
       " '__subclasshook__',\n",
       " '__weakref__',\n",
       " 'name',\n",
       " 'profile']"
      ]
     },
     "execution_count": 79,
     "metadata": {},
     "output_type": "execute_result"
    }
   ],
   "source": [
    "# But those encapsulated attributes are just being indirectly inaccessble, \n",
    "# you can still access the values through this format\n",
    "# _ClassName__attribute\n",
    "\n",
    "dir(brian_new)"
   ]
  },
  {
   "cell_type": "code",
   "execution_count": 80,
   "id": "3b47596c",
   "metadata": {},
   "outputs": [
    {
     "data": {
      "text/plain": [
       "'2019101216'"
      ]
     },
     "execution_count": 80,
     "metadata": {},
     "output_type": "execute_result"
    }
   ],
   "source": [
    "brian_new._StudentProfiling__id_num"
   ]
  },
  {
   "cell_type": "code",
   "execution_count": 81,
   "id": "1346a4d4",
   "metadata": {},
   "outputs": [
    {
     "data": {
      "text/plain": [
       "'09085260338'"
      ]
     },
     "execution_count": 81,
     "metadata": {},
     "output_type": "execute_result"
    }
   ],
   "source": [
    "brian_new._StudentProfiling__contact_num"
   ]
  },
  {
   "cell_type": "code",
   "execution_count": null,
   "id": "5cf3f08f",
   "metadata": {},
   "outputs": [],
   "source": []
  }
 ],
 "metadata": {
  "kernelspec": {
   "display_name": "Python 3 (ipykernel)",
   "language": "python",
   "name": "python3"
  },
  "language_info": {
   "codemirror_mode": {
    "name": "ipython",
    "version": 3
   },
   "file_extension": ".py",
   "mimetype": "text/x-python",
   "name": "python",
   "nbconvert_exporter": "python",
   "pygments_lexer": "ipython3",
   "version": "3.9.12"
  }
 },
 "nbformat": 4,
 "nbformat_minor": 5
}
